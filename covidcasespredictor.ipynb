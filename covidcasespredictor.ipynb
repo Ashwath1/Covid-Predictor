{
  "nbformat": 4,
  "nbformat_minor": 0,
  "metadata": {
    "colab": {
      "name": "CovidCasesPredictor.ipynb",
      "provenance": [],
      "collapsed_sections": [],
      "authorship_tag": "ABX9TyObeDJd1YcxlQzthfsZx9Mt",
      "include_colab_link": true
    },
    "kernelspec": {
      "name": "python3",
      "display_name": "Python 3"
    },
    "language_info": {
      "name": "python"
    }
  },
  "cells": [
    {
      "cell_type": "markdown",
      "metadata": {
        "id": "view-in-github",
        "colab_type": "text"
      },
      "source": [
        "<a href=\"https://colab.research.google.com/gist/Ashwath1/4196ffc7c4947f25722fa6acba4114f2/covidcasespredictor.ipynb\" target=\"_parent\"><img src=\"https://colab.research.google.com/assets/colab-badge.svg\" alt=\"Open In Colab\"/></a>"
      ]
    },
    {
      "cell_type": "code",
      "metadata": {
        "id": "85GqY30c46Mw"
      },
      "source": [
        "import numpy as np\n",
        "import matplotlib.pyplot as plt\n",
        "import pandas as pd\n",
        "import datetime as dt\n",
        "import seaborn as sb"
      ],
      "execution_count": null,
      "outputs": []
    },
    {
      "cell_type": "code",
      "metadata": {
        "id": "rIoukpDC48rh"
      },
      "source": [
        "df=pd.read_csv('covid_19_india.csv',parse_dates=['Date'],dayfirst=True)\n",
        "print(df)\n",
        "X=df.iloc[:, :-1].values\n",
        "y=df.iloc[:,-1].values"
      ],
      "execution_count": null,
      "outputs": []
    },
    {
      "cell_type": "code",
      "metadata": {
        "id": "ZQM1MVw45-sr"
      },
      "source": [
        "df=df[['Date','State/UnionTerritory','Cured','Deaths','Confirmed']]\n",
        "df.columns=['Date','State','Cured','Deaths','Confirmed']"
      ],
      "execution_count": null,
      "outputs": []
    },
    {
      "cell_type": "code",
      "metadata": {
        "id": "M5IxtAgZBs2j"
      },
      "source": [
        "today=df[df.Date=='2021-05-02']\n",
        "today"
      ],
      "execution_count": null,
      "outputs": []
    },
    {
      "cell_type": "code",
      "metadata": {
        "id": "N-An3nN7CSdk"
      },
      "source": [
        "x=today.sort_values(by=\"Deaths\",ascending=False)\n",
        "max_deaths=x[0:5]\n",
        "sb.set(rc={'figure.figsize':(15,10)})\n",
        "sb.barplot(x=\"State\",y=\"Confirmed\",data=max_deaths,hue=\"State\")"
      ],
      "execution_count": null,
      "outputs": []
    },
    {
      "cell_type": "code",
      "metadata": {
        "id": "P5c7TdoAFaO9"
      },
      "source": [
        "tel=df[df.State=='Telangana']\n",
        "tel"
      ],
      "execution_count": null,
      "outputs": []
    },
    {
      "cell_type": "code",
      "metadata": {
        "id": "G8m-20w5F_2f"
      },
      "source": [
        "sb.set(rc={'figure.figsize':(15,10)})\n",
        "sb.lineplot(x=\"Date\",y=\"Confirmed\",data=tel,color='r')\n",
        "plt.show()"
      ],
      "execution_count": null,
      "outputs": []
    },
    {
      "cell_type": "code",
      "metadata": {
        "id": "QdcsncH3HbzZ"
      },
      "source": [
        "tel"
      ],
      "execution_count": null,
      "outputs": []
    },
    {
      "cell_type": "code",
      "metadata": {
        "id": "LYmzIuLbGmaI"
      },
      "source": [
        "tel['Date']=tel['Date'].map(dt.datetime.toordinal)\n",
        "tel.tail()"
      ],
      "execution_count": null,
      "outputs": []
    },
    {
      "cell_type": "code",
      "metadata": {
        "id": "mw7u3XA3H3WW"
      },
      "source": [
        "X=tel['Date']\n",
        "y=tel['Confirmed']\n",
        "\n"
      ],
      "execution_count": null,
      "outputs": []
    },
    {
      "cell_type": "code",
      "metadata": {
        "id": "cz3HIEWZ5BUm"
      },
      "source": [
        "from sklearn.model_selection import train_test_split\n",
        "X_train,X_test,y_train,y_test=train_test_split(X,y,test_size=0.3,random_state=0)"
      ],
      "execution_count": null,
      "outputs": []
    },
    {
      "cell_type": "code",
      "metadata": {
        "colab": {
          "base_uri": "https://localhost:8080/"
        },
        "id": "kbtXnvgU5C79",
        "outputId": "68f3dc1e-46f4-4b8f-d126-f505379fb084"
      },
      "source": [
        "from sklearn.linear_model import LinearRegression\n",
        "regressor=LinearRegression()\n",
        "regressor.fit(np.array(X_train).reshape(-1,1),np.array(y_train).reshape(-1,1))"
      ],
      "execution_count": null,
      "outputs": [
        {
          "output_type": "execute_result",
          "data": {
            "text/plain": [
              "LinearRegression(copy_X=True, fit_intercept=True, n_jobs=None, normalize=False)"
            ]
          },
          "metadata": {
            "tags": []
          },
          "execution_count": 128
        }
      ]
    },
    {
      "cell_type": "code",
      "metadata": {
        "colab": {
          "base_uri": "https://localhost:8080/"
        },
        "id": "_gG21mFqIVGh",
        "outputId": "9f3a7ac9-d123-47cd-9dc7-d0e03b075467"
      },
      "source": [
        "lR=LinearRegression()\n",
        "lR.fit(np.array(X_train).reshape(-1,1),np.array(y_train).reshape(-1,1))"
      ],
      "execution_count": null,
      "outputs": [
        {
          "output_type": "execute_result",
          "data": {
            "text/plain": [
              "LinearRegression(copy_X=True, fit_intercept=True, n_jobs=None, normalize=False)"
            ]
          },
          "metadata": {
            "tags": []
          },
          "execution_count": 131
        }
      ]
    },
    {
      "cell_type": "code",
      "metadata": {
        "id": "r4OKItWIIJNE"
      },
      "source": [
        "np.set_printoptions(precision=2)\n",
        "lR.predict(np.array([[737935]]))\n"
      ],
      "execution_count": null,
      "outputs": []
    },
    {
      "cell_type": "code",
      "metadata": {
        "id": "1vfhRxPVJnvL"
      },
      "source": [
        "X_test"
      ],
      "execution_count": null,
      "outputs": []
    },
    {
      "cell_type": "code",
      "metadata": {
        "colab": {
          "base_uri": "https://localhost:8080/"
        },
        "id": "vaYxS1lBJN00",
        "outputId": "b50d6fed-e49e-4588-fd21-4abfbdfd8842"
      },
      "source": [
        "from sklearn.preprocessing import StandardScaler\n",
        "scaler = StandardScaler()\n",
        "Yp = scaler.fit_transform(pd.DataFrame(y_pred))\n",
        "Yt = scaler.fit_transform(pd.DataFrame(y_test))\n",
        "y_pred=lR.predict(np.array(X_test).reshape(-1,1))\n",
        "print(np.concatenate((Yp.reshape(-1,1), Yt.reshape(-1,1)), 1))"
      ],
      "execution_count": null,
      "outputs": [
        {
          "output_type": "stream",
          "text": [
            "[[-1.48 -1.59]\n",
            " [-0.28 -0.19]\n",
            " [ 0.2   0.27]\n",
            " [ 0.68  0.71]\n",
            " [ 1.63  1.53]\n",
            " [-0.76 -0.72]]\n"
          ],
          "name": "stdout"
        }
      ]
    },
    {
      "cell_type": "code",
      "metadata": {
        "colab": {
          "base_uri": "https://localhost:8080/"
        },
        "id": "OQT86zUBNqdv",
        "outputId": "2e0f6fc1-6a9d-4513-eaef-08f0e077c86c"
      },
      "source": [
        "from sklearn.metrics import mean_squared_error\n",
        "mean_squared_error(X_test,y_pred)"
      ],
      "execution_count": null,
      "outputs": [
        {
          "output_type": "execute_result",
          "data": {
            "text/plain": [
              "61606992657.14289"
            ]
          },
          "metadata": {
            "tags": []
          },
          "execution_count": 174
        }
      ]
    }
  ]
}